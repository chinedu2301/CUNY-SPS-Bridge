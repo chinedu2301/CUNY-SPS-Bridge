{
 "cells": [
  {
   "cell_type": "markdown",
   "metadata": {},
   "source": [
    "CUNY SPS Bridge:Math with Python\n",
    "Name: Chinedu Onyeka"
   ]
  },
  {
   "cell_type": "markdown",
   "metadata": {},
   "source": [
    "Problem 1: Even-Odd Vending Machine"
   ]
  },
  {
   "cell_type": "code",
   "execution_count": 1,
   "metadata": {},
   "outputs": [
    {
     "name": "stdout",
     "output_type": "stream",
     "text": [
      "Please Enter a number: 4\n",
      "The number you entered is even\n",
      "The following are other even numbers including 4.0 [4.0, 6.0, 8.0, 10.0, 12.0, 14.0, 16.0, 18.0, 20.0, 22.0]\n"
     ]
    }
   ],
   "source": [
    "#Check if even or odd\n",
    "def even_odd(N):\n",
    "    if N % 2 == 0:\n",
    "        print('The number you entered is even')\n",
    "        even = [N]\n",
    "        while len(even) <= 9:\n",
    "            N += 2\n",
    "            even.append(N)\n",
    "            p = even[0]\n",
    "        print('The following are other even numbers including {}'.format(p),even)\n",
    "    else:\n",
    "        print('The number you entered is odd')\n",
    "        odd = [N]\n",
    "        while len(odd) <= 9:\n",
    "            N += 2\n",
    "            odd.append(N)\n",
    "            p = odd[0]\n",
    "        print('The following are other odd numbers including {}'.format(p),odd)\n",
    "\n",
    "#Enter a value\n",
    "if __name__ == '__main__':\n",
    "    try:\n",
    "        x = float(input('Please Enter a number: '))\n",
    "    except ValueError:\n",
    "        print('You did not enter a valid number')\n",
    "        \n",
    "    if x.is_integer(): #check if the number entered is an integer\n",
    "        even_odd(x)\n",
    "    else:\n",
    "        print('You did not enter an integer')\n",
    "\n",
    "\n"
   ]
  },
  {
   "cell_type": "markdown",
   "metadata": {},
   "source": [
    "Problem 2: Exploring a Quadratic function visually"
   ]
  },
  {
   "cell_type": "code",
   "execution_count": 2,
   "metadata": {},
   "outputs": [],
   "source": [
    "import matplotlib.pyplot as plt\n",
    "%matplotlib inline\n",
    "\n",
    "def graph_quad(x,y):\n",
    "    plt.plot(x,y)\n",
    "    plt.xlabel('x values')\n",
    "    plt.ylabel('y values')\n",
    "    plt.title('Exploring Quadratic Functions Visually\\nGraph of y vs x')\n",
    "\n",
    "x_values = range(-10,11)\n",
    "y_values = []\n",
    "for x in x_values:\n",
    "    y = x**2 + 2*x + 1\n",
    "    y_values.append(y)"
   ]
  },
  {
   "cell_type": "code",
   "execution_count": 3,
   "metadata": {
    "scrolled": true
   },
   "outputs": [
    {
     "data": {
      "image/png": "[encoded data removed]",
      "text/plain": [
       "<Figure size 432x288 with 1 Axes>"
      ]
     },
     "metadata": {
      "needs_background": "light"
     },
     "output_type": "display_data"
    }
   ],
   "source": [
    "graph_quad(x_values,y_values)"
   ]
  },
  {
   "cell_type": "markdown",
   "metadata": {},
   "source": [
    "Problem 3: Statistics Calculator"
   ]
  },
  {
   "cell_type": "code",
   "execution_count": 4,
   "metadata": {},
   "outputs": [],
   "source": [
    "#Import relevant libraries\n",
    "from collections import Counter\n",
    "\n",
    "#Read the text file\n",
    "def read_file(filename):\n",
    "    numbers = []\n",
    "    with open(filename) as f:\n",
    "        for line in f:\n",
    "            numbers.append(float(line))\n",
    "    return numbers\n",
    "\n",
    "#Calculate Mean\n",
    "def calculate_mean(numbers):\n",
    "    S = sum(numbers)\n",
    "    N = len(numbers)\n",
    "    mean = S/N\n",
    "    \n",
    "    return mean\n",
    "\n",
    "#Calculate Median\n",
    "def calculate_median(numbers):\n",
    "    N = len(numbers)\n",
    "    numbers.sort()\n",
    "    \n",
    "    if N % 2 == 0: #if the length of the numbers is even, median is the average of the two middle numbers\n",
    "        m1 = N/2\n",
    "        m2 = (N/2) + 1\n",
    "        #convert to integer and get the index position\n",
    "        m1 = int(m1) - 1\n",
    "        m2 = int(m2) - 1\n",
    "        median = (numbers[m1] + numbers[m2])/2 #The median is the average of the two(2) middle numbers\n",
    "    else: #Median is the number at the middle of the \n",
    "        m = (N+1)/2\n",
    "        #convert to integer and get the index position\n",
    "        m = int(m) - 1\n",
    "        median = numbers[m]\n",
    "        \n",
    "    return median\n",
    "\n",
    "#Calculate Mode\n",
    "def calculate_mode(numbers):\n",
    "    c = Counter(numbers)\n",
    "    mode = c.most_common(1)\n",
    "    \n",
    "    return mode[0][0]\n",
    "\n",
    "#Calculate mean difference\n",
    "def find_differences(numbers):\n",
    "    mean = calculate_mean(numbers)\n",
    "    #find difference in mean\n",
    "    diff = []\n",
    "    for num in numbers:\n",
    "        diff.append(num - mean)\n",
    "        \n",
    "        return diff\n",
    "\n",
    "#Calculate the variance\n",
    "def calculate_variance(numbers):\n",
    "    diff = find_differences(numbers)\n",
    "    #find the squared difference\n",
    "    squared_diff = []\n",
    "    for d in diff:\n",
    "        squared_diff.append(d**2)\n",
    "    #find the variance\n",
    "    sum_of_squared_diff = sum(squared_diff)\n",
    "    variance = sum_of_squared_diff/len(numbers)\n",
    "    \n",
    "    return variance\n",
    "\n",
    "#Calculate the Standard deviation\n",
    "def calculate_standard_deviation(numbers):\n",
    "    variance = calculate_variance(numbers)\n",
    "    std_deviation = variance**0.5\n",
    "    \n",
    "    return std_deviation"
   ]
  },
  {
   "cell_type": "code",
   "execution_count": 5,
   "metadata": {},
   "outputs": [
    {
     "name": "stdout",
     "output_type": "stream",
     "text": [
      "Enter the full text file path and extention: mydata.txt\n",
      "Mean: 477.75\n",
      "Median: 500.0\n",
      "Mode: 100.0\n",
      "Variance: 14542.921875\n",
      "Std Deviation: 120.59403747698308\n"
     ]
    }
   ],
   "source": [
    "import errno\n",
    "import os\n",
    "\n",
    "if __name__ == '__main__':\n",
    "    try:\n",
    "        data = input('Enter the full text file path and extention: ')\n",
    "    except EnvironmentError as e:\n",
    "        if e.rrno == errno.ENOENT:\n",
    "            print('You did not enter the correct file name or path')\n",
    "        else: \n",
    "            raise\n",
    "    data = read_file(data)\n",
    "    mean = calculate_mean(data)\n",
    "    median = calculate_median(data)\n",
    "    mode = calculate_mode(data)\n",
    "    variance = calculate_variance(data)\n",
    "    std_deviation = calculate_standard_deviation(data)\n",
    "    \n",
    "    #Print the results:\n",
    "    print('Mean: {}'.format(mean))\n",
    "    print('Median: {}'.format(median))\n",
    "    print('Mode: {}'.format(mode))\n",
    "    print('Variance: {}'.format(variance))\n",
    "    print('Std Deviation: {}'.format(std_deviation))\n",
    "    "
   ]
  },
  {
   "cell_type": "markdown",
   "metadata": {},
   "source": [
    "Problem 4: Solving Single Variable InEquality"
   ]
  },
  {
   "cell_type": "code",
   "execution_count": 6,
   "metadata": {},
   "outputs": [
    {
     "name": "stdout",
     "output_type": "stream",
     "text": [
      "Enter any inequality: x-3<0\n"
     ]
    },
    {
     "data": {
      "text/plain": [
       "[Interval.open(-oo, 3)]"
      ]
     },
     "execution_count": 6,
     "metadata": {},
     "output_type": "execute_result"
    }
   ],
   "source": [
    "#function that solves an inequality\n",
    "from sympy import *\n",
    "\n",
    "def isolve(function):\n",
    "    x = Symbol('x')\n",
    "    lhs = function.lhs\n",
    "\n",
    "    if lhs.is_polynomial():\n",
    "\n",
    "        p = Poly(lhs, x)\n",
    "        rel = function.rel_op\n",
    "\n",
    "        return solve_poly_inequality(p, rel)\n",
    "\n",
    "    elif lhs.is_rational_function():\n",
    "\n",
    "        numer, denom = lhs.as_numer_denom()\n",
    "        p1 = Poly(numer)\n",
    "        p2 = Poly(denom)\n",
    "        rel = sympify(function).rel_op\n",
    "\n",
    "        return solve_rational_inequalities([[((p1, p2), rel)]])\n",
    "\n",
    "    else:\n",
    "\n",
    "        return solve_univariate_inequality(function, x, relational=False)\n",
    "\n",
    "func = input('Enter any inequality: ')\n",
    "isolve(sympify(func))"
   ]
  },
  {
   "cell_type": "markdown",
   "metadata": {},
   "source": [
    "Problem 5: Law of Large Numbers"
   ]
  },
  {
   "cell_type": "code",
   "execution_count": 7,
   "metadata": {},
   "outputs": [
    {
     "name": "stdout",
     "output_type": "stream",
     "text": [
      "Trials: 100, Trial average: 3.48\n",
      "Trials: 1000, Trial average: 3.525\n",
      "Trials: 10000, Trial average: 3.4777\n",
      "Trials: 100000, Trial average: 3.50895\n",
      "Trials: 500000, Trial average: 3.5028\n"
     ]
    }
   ],
   "source": [
    "import random\n",
    "from sympy import *\n",
    "\n",
    "def roll():\n",
    "    return random.randint(1, 6)\n",
    "\n",
    "def trial_average(trials):\n",
    "    num_rolls = 0\n",
    "    score = 0\n",
    "\n",
    "    while num_rolls < trials:\n",
    "        die_roll = roll()\n",
    "        num_rolls += 1\n",
    "        score += die_roll\n",
    "\n",
    "    trial_average = score / trials\n",
    "\n",
    "    print('Trials: {0}, Trial average: {1}'.format(num_rolls, trial_average))\n",
    "\n",
    "\n",
    "trial_average(100)\n",
    "trial_average(1000)\n",
    "trial_average(10000)\n",
    "trial_average(100000)\n",
    "trial_average(500000)"
   ]
  },
  {
   "cell_type": "markdown",
   "metadata": {},
   "source": [
    "Problem 6: Doing Gradient Descent"
   ]
  },
  {
   "cell_type": "code",
   "execution_count": 8,
   "metadata": {},
   "outputs": [
    {
     "name": "stdout",
     "output_type": "stream",
     "text": [
      "Enter a function in one variable: 2*x**2 + 3*x + 1\n",
      "Enter the variable to differentiate with respect to: x\n",
      "Enter the initial value of the variable: 1\n",
      "x: -0.747501574739872\n",
      "Minimum value: -0.124987515742439\n"
     ]
    },
    {
     "data": {
      "image/png": "[encoded data removed]",
      "text/plain": [
       "<Figure size 432x288 with 1 Axes>"
      ]
     },
     "metadata": {
      "needs_background": "light"
     },
     "output_type": "display_data"
    }
   ],
   "source": [
    "import matplotlib.pyplot as plt\n",
    "from sympy import Derivative, Symbol, sympify, solve\n",
    "\n",
    "\n",
    "def grad_descent(x0, f1x, x):\n",
    "\n",
    "    if not solve(f1x):\n",
    "        print('Cannot continue, solution for {0}=0 does not exist'.format(f1x))\n",
    "        return\n",
    "\n",
    "    epsilon = 1e-6\n",
    "    step_size = 1e-4\n",
    "    x_old = x0\n",
    "    x_new = x_old - step_size * f1x.subs({x: x_old}).evalf()\n",
    "    x_list = []\n",
    "\n",
    "    while abs(x_old - x_new) > epsilon:\n",
    "        x_old = x_new\n",
    "        x_new = x_old - step_size * f1x.subs({x: x_old}).evalf()\n",
    "        x_list.append(x_new)\n",
    "\n",
    "    return x_new, x_list\n",
    "\n",
    "if __name__ == '__main__':\n",
    "    f = input('Enter a function in one variable: ')\n",
    "    var = input('Enter the variable to differentiate with respect to: ')\n",
    "    var0 = float(input('Enter the initial value of the variable: '))\n",
    "    try:\n",
    "        f = sympify(f)\n",
    "    except SympifyError:\n",
    "        print('Invalid function entered')\n",
    "    else:\n",
    "        var = Symbol(var)\n",
    "        d = Derivative(f, var).doit()\n",
    "        var_min, x_list = grad_descent(var0, d, var)\n",
    "\n",
    "        if var_min:\n",
    "            print('{0}: {1}'.format(var.name, var_min))\n",
    "            print('Minimum value: {0}'.format(f.subs({var: var_min})))\n",
    "\n",
    "        plt.plot(x_list)"
   ]
  },
  {
   "cell_type": "code",
   "execution_count": null,
   "metadata": {},
   "outputs": [],
   "source": []
  }
 ],
 "metadata": {
  "kernelspec": {
   "display_name": "Python 3",
   "language": "python",
   "name": "python3"
  },
  "language_info": {
   "codemirror_mode": {
    "name": "ipython",
    "version": 3
   },
   "file_extension": ".py",
   "mimetype": "text/x-python",
   "name": "python",
   "nbconvert_exporter": "python",
   "pygments_lexer": "ipython3",
   "version": "3.8.5"
  }
 },
 "nbformat": 4,
 "nbformat_minor": 4
}
