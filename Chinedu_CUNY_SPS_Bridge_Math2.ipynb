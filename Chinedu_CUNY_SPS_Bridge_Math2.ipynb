{
 "cells": [
  {
   "cell_type": "markdown",
   "metadata": {},
   "source": [
    "CUNY SPS Bridge:Math with Python\n",
    "Name: Chinedu Onyeka\n",
    "Date : July 30th,, 2021"
   ]
  },
  {
   "cell_type": "markdown",
   "metadata": {},
   "source": [
    "HomeWork 2 problems:\n",
    "Provide all solutions in an .html file. \n",
    "\n",
    "1.  Write a Python program to compute the eigenvalues and right eigenvectors of a given square array.\n",
    "\n",
    "2.  Write a Python program to compute the factor of a given array by Singular Value Decomposition\n",
    "\n",
    "3.  Write a Python program to compute the determinant of an array."
   ]
  },
  {
   "cell_type": "code",
   "execution_count": 4,
   "metadata": {},
   "outputs": [],
   "source": [
    "#import necessary libraries\n",
    "import numpy as np\n",
    "import scipy\n",
    "from numpy import array\n",
    "from numpy.linalg import eig, det\n",
    "from scipy.linalg import svd"
   ]
  },
  {
   "cell_type": "code",
   "execution_count": 5,
   "metadata": {},
   "outputs": [
    {
     "data": {
      "text/plain": [
       "array([[8, 7, 4],\n",
       "       [6, 9, 0],\n",
       "       [3, 2, 7]])"
      ]
     },
     "execution_count": 5,
     "metadata": {},
     "output_type": "execute_result"
    }
   ],
   "source": [
    "#Define the array\n",
    "n = 3\n",
    "A = np.random.randint(0,10,(n,n))\n",
    "A"
   ]
  },
  {
   "cell_type": "code",
   "execution_count": 11,
   "metadata": {},
   "outputs": [
    {
     "name": "stdout",
     "output_type": "stream",
     "text": [
      "The eigen values are: \n",
      " [16.04346408  1.43327008  6.52326584]\n",
      "------------------------------------------\n",
      "The eigen vectors are: \n",
      " [[-0.70778274 -0.76848259  0.21394246]\n",
      " [-0.60292725  0.60936436 -0.51828523]\n",
      " [-0.36813357  0.19521677  0.82801512]]\n"
     ]
    }
   ],
   "source": [
    "#Problem 1: Compute the eigenvalues and eigenvectors of a given square array\n",
    "\n",
    "#eigenvalues and eigenvectors\n",
    "values, vectors = eig(A)\n",
    "print('The eigen values are: \\n', values)\n",
    "print('------------------------------------------')\n",
    "print('The eigen vectors are: \\n', vectors)\n"
   ]
  },
  {
   "cell_type": "code",
   "execution_count": 12,
   "metadata": {},
   "outputs": [
    {
     "name": "stdout",
     "output_type": "stream",
     "text": [
      "U: \n",
      " [[-0.69937118 -0.09703521  0.70814132]\n",
      " [-0.62580886  0.56178025 -0.54107875]\n",
      " [-0.34531612 -0.821576   -0.45361841]]\n",
      "------------------------------------------\n",
      "s: \n",
      " [16.15277937  6.72152934  1.38157956]\n",
      "------------------------------------------\n",
      "V: \n",
      " [[-0.64297114 -0.69452507 -0.32283593]\n",
      " [ 0.01929202  0.4066967  -0.91335952]\n",
      " [ 0.76564739 -0.59349197 -0.24809545]]\n"
     ]
    }
   ],
   "source": [
    "#Problem 2: Compute the factor of a given array by SVD\n",
    "\n",
    "#factors by SVD\n",
    "U, s, V = svd(A)\n",
    "print('U: \\n',U)\n",
    "print('------------------------------------------')\n",
    "print('s: \\n',s)\n",
    "print('------------------------------------------')\n",
    "print('V: \\n',V)"
   ]
  },
  {
   "cell_type": "code",
   "execution_count": 16,
   "metadata": {},
   "outputs": [
    {
     "name": "stdout",
     "output_type": "stream",
     "text": [
      "detA: 150.0\n"
     ]
    }
   ],
   "source": [
    "#Problem 3: Compute the determinant of the array\n",
    "\n",
    "#Determinant:\n",
    "detA = det(A)\n",
    "detA = round(detA,1)\n",
    "print('detA:',detA)"
   ]
  },
  {
   "cell_type": "code",
   "execution_count": null,
   "metadata": {},
   "outputs": [],
   "source": []
  }
 ],
 "metadata": {
  "kernelspec": {
   "display_name": "Python 3",
   "language": "python",
   "name": "python3"
  },
  "language_info": {
   "codemirror_mode": {
    "name": "ipython",
    "version": 3
   },
   "file_extension": ".py",
   "mimetype": "text/x-python",
   "name": "python",
   "nbconvert_exporter": "python",
   "pygments_lexer": "ipython3",
   "version": "3.8.5"
  }
 },
 "nbformat": 4,
 "nbformat_minor": 4
}
